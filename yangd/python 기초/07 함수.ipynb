{
 "cells": [
  {
   "cell_type": "markdown",
   "id": "2cbac24b",
   "metadata": {},
   "source": [
    "# 함수 정의와 호출\n",
    "- print() , type() 내장 함수"
   ]
  },
  {
   "cell_type": "markdown",
   "id": "db78f5b4",
   "metadata": {},
   "source": [
    "## 인자도 반환 값도 없는 함수"
   ]
  },
  {
   "cell_type": "code",
   "execution_count": 1,
   "id": "3a713575",
   "metadata": {},
   "outputs": [],
   "source": [
    "def my_func():\n",
    "    print(\"My first function!\")\n",
    "    print(\"This is a function.\")\n",
    "    "
   ]
  },
  {
   "cell_type": "code",
   "execution_count": 2,
   "id": "54c327a3",
   "metadata": {},
   "outputs": [
    {
     "name": "stdout",
     "output_type": "stream",
     "text": [
      "My first function!\n",
      "This is a function.\n"
     ]
    }
   ],
   "source": [
    "my_func()"
   ]
  },
  {
   "cell_type": "markdown",
   "id": "1bc65c99",
   "metadata": {},
   "source": [
    "\n",
    "## 인자는 있으나 반환 값이 없는 함수"
   ]
  },
  {
   "cell_type": "code",
   "execution_count": 3,
   "id": "c056dfc4",
   "metadata": {},
   "outputs": [],
   "source": [
    "def my_friend(friendname):\n",
    "    print(\"{}는 나의 친구입니다.\".format(friendname))"
   ]
  },
  {
   "cell_type": "code",
   "execution_count": 6,
   "id": "041523d9",
   "metadata": {},
   "outputs": [
    {
     "name": "stdout",
     "output_type": "stream",
     "text": [
      "민트는 나의 친구입니다.\n",
      "초코는 나의 친구입니다.\n"
     ]
    }
   ],
   "source": [
    "my_friend(\"민트\")\n",
    "my_friend(\"초코\")"
   ]
  },
  {
   "cell_type": "code",
   "execution_count": 8,
   "id": "0fc73a3a",
   "metadata": {},
   "outputs": [],
   "source": [
    "def my_student_info(name, school_ID, phoneNumber):\n",
    "    print(\"--------------------------\")\n",
    "    print(\"- 학생이름:\",name)\n",
    "    print(\"- 학급번호:\",school_ID)\n",
    "    print(\"- 전화번호\", phoneNumber)"
   ]
  },
  {
   "cell_type": "code",
   "execution_count": 9,
   "id": "b1c187c7",
   "metadata": {},
   "outputs": [
    {
     "name": "stdout",
     "output_type": "stream",
     "text": [
      "--------------------------\n",
      "- 학생이름: 현아\n",
      "- 학급번호: 01\n",
      "- 전화번호 12345\n",
      "--------------------------\n",
      "- 학생이름: 진수\n",
      "- 학급번호: 02\n",
      "- 전화번호 34234\n"
     ]
    }
   ],
   "source": [
    "my_student_info(\"현아\",\"01\",\"12345\")\n",
    "my_student_info(\"진수\",\"02\",\"34234\")"
   ]
  },
  {
   "cell_type": "markdown",
   "id": "26c96bf0",
   "metadata": {},
   "source": [
    "## 인자도 있고 반환 값도 있는 함수"
   ]
  },
  {
   "cell_type": "code",
   "execution_count": 11,
   "id": "9abf340e",
   "metadata": {},
   "outputs": [],
   "source": [
    "def my_calc(x, y):\n",
    "    z = x * y\n",
    "    return z"
   ]
  },
  {
   "cell_type": "code",
   "execution_count": 12,
   "id": "5db38854",
   "metadata": {},
   "outputs": [
    {
     "data": {
      "text/plain": [
       "15"
      ]
     },
     "execution_count": 12,
     "metadata": {},
     "output_type": "execute_result"
    }
   ],
   "source": [
    "my_calc(3,5)"
   ]
  },
  {
   "cell_type": "markdown",
   "id": "e7249bba",
   "metadata": {},
   "source": [
    "# 변수의 유효 범위"
   ]
  },
  {
   "cell_type": "code",
   "execution_count": 14,
   "id": "1cc425d5",
   "metadata": {},
   "outputs": [],
   "source": [
    "a = 5\n",
    "\n",
    "def fun1():\n",
    "    a =1\n",
    "    print(\"[func1] 지역 변수 a=\", a)\n",
    "    \n",
    "def fun2():\n",
    "    a =2\n",
    "    print(\"[func2] 지역 변수 a=\", a)\n",
    "\n",
    "def fun3():\n",
    "    print(\"[fun3] 전역 변수 a=\", a)\n",
    "\n",
    "def fun4():\n",
    "    global a\n",
    "    a = 4\n",
    "    print(\"[func4] 전역 변수 a=\", a)"
   ]
  },
  {
   "cell_type": "code",
   "execution_count": 15,
   "id": "9390b2d2",
   "metadata": {},
   "outputs": [
    {
     "name": "stdout",
     "output_type": "stream",
     "text": [
      "[func1] 지역 변수 a= 1\n",
      "[func2] 지역 변수 a= 2\n",
      "[fun3] 전역 변수 a= 5\n",
      "[func4] 전역 변수 a= 4\n"
     ]
    }
   ],
   "source": [
    "fun1()\n",
    "fun2()\n",
    "fun3()\n",
    "fun4()"
   ]
  },
  {
   "cell_type": "code",
   "execution_count": 16,
   "id": "7eac2d3a",
   "metadata": {},
   "outputs": [
    {
     "data": {
      "text/plain": [
       "4"
      ]
     },
     "execution_count": 16,
     "metadata": {},
     "output_type": "execute_result"
    }
   ],
   "source": [
    "a"
   ]
  },
  {
   "cell_type": "markdown",
   "id": "f593e9fa",
   "metadata": {},
   "source": [
    "### global [변수]\n",
    "- 선언 시 전역변수의 내용 변경 가능"
   ]
  },
  {
   "cell_type": "markdown",
   "id": "a4d53283",
   "metadata": {},
   "source": [
    "# 03 람다(lambda) 함수"
   ]
  },
  {
   "cell_type": "markdown",
   "id": "de84976f",
   "metadata": {},
   "source": [
    "# 04 유용한 내장 함수"
   ]
  },
  {
   "cell_type": "markdown",
   "id": "e11e4d2f",
   "metadata": {},
   "source": [
    "## 형 변환 함수\n",
    "- int()  \n",
    "실수나 문자열을 정수로 변환\n",
    "- float()  \n",
    "정수나 문자열 -> 실수\n",
    "- str()  \n",
    "정수나 실수 -> 문자열"
   ]
  },
  {
   "cell_type": "code",
   "execution_count": 18,
   "id": "100abbe5",
   "metadata": {},
   "outputs": [
    {
     "data": {
      "text/plain": [
       "[0, 3, -1]"
      ]
     },
     "execution_count": 18,
     "metadata": {},
     "output_type": "execute_result"
    }
   ],
   "source": [
    "[int(0.123),\n",
    "int(3.434234),\n",
    "int(-1.34231)]"
   ]
  },
  {
   "cell_type": "code",
   "execution_count": 19,
   "id": "01eff394",
   "metadata": {},
   "outputs": [
    {
     "data": {
      "text/plain": [
       "[0.0, 123.0, -567.0]"
      ]
     },
     "execution_count": 19,
     "metadata": {},
     "output_type": "execute_result"
    }
   ],
   "source": [
    "[float(0), float(123), float(-567)]"
   ]
  },
  {
   "cell_type": "code",
   "execution_count": 20,
   "id": "330f19d3",
   "metadata": {},
   "outputs": [
    {
     "data": {
      "text/plain": [
       "['123', '3456', '-987']"
      ]
     },
     "execution_count": 20,
     "metadata": {},
     "output_type": "execute_result"
    }
   ],
   "source": [
    "[str(123), str(3456), str(-987)]"
   ]
  },
  {
   "cell_type": "markdown",
   "id": "7a7bb2d1",
   "metadata": {},
   "source": [
    "### 리스트, 튜플, 세트형으로 변환"
   ]
  },
  {
   "cell_type": "markdown",
   "id": "fb91c0b0",
   "metadata": {},
   "source": [
    "- list()\n",
    "- tuple()\n",
    "- set()"
   ]
  },
  {
   "cell_type": "markdown",
   "id": "93cf870c",
   "metadata": {},
   "source": [
    "## bool 함수\n",
    "- bool()  \n",
    "True 혹은 False의 결과를 반환\n",
    "- 인자가 숫자  \n",
    "0이면 False  \n",
    "0 이외의 숫자 True"
   ]
  },
  {
   "cell_type": "code",
   "execution_count": 22,
   "id": "f558a867",
   "metadata": {},
   "outputs": [
    {
     "data": {
      "text/plain": [
       "False"
      ]
     },
     "execution_count": 22,
     "metadata": {},
     "output_type": "execute_result"
    }
   ],
   "source": [
    "bool(0)"
   ]
  },
  {
   "cell_type": "code",
   "execution_count": 23,
   "id": "5b5ca4fe",
   "metadata": {},
   "outputs": [
    {
     "data": {
      "text/plain": [
       "[True, True, True, True]"
      ]
     },
     "execution_count": 23,
     "metadata": {},
     "output_type": "execute_result"
    }
   ],
   "source": [
    "[bool(1) , bool(-10),  bool(5.12), bool(-3.26) ]"
   ]
  },
  {
   "cell_type": "markdown",
   "id": "972c08dc",
   "metadata": {},
   "source": [
    "- 문자열을 인자로 bool 함수 호출  \n",
    "문자열이 있으면 True 없으면 False  \n",
    "빈 문자열인지 아닌지 확인용\n",
    "- 주의 : 공백은 문자열 맞음 "
   ]
  },
  {
   "cell_type": "code",
   "execution_count": 24,
   "id": "f88da9b3",
   "metadata": {},
   "outputs": [
    {
     "data": {
      "text/plain": [
       "True"
      ]
     },
     "execution_count": 24,
     "metadata": {},
     "output_type": "execute_result"
    }
   ],
   "source": [
    "bool('a')"
   ]
  },
  {
   "cell_type": "code",
   "execution_count": 25,
   "id": "aa3fd570",
   "metadata": {},
   "outputs": [
    {
     "data": {
      "text/plain": [
       "True"
      ]
     },
     "execution_count": 25,
     "metadata": {},
     "output_type": "execute_result"
    }
   ],
   "source": [
    "bool(' ')"
   ]
  },
  {
   "cell_type": "code",
   "execution_count": 26,
   "id": "115a8070",
   "metadata": {},
   "outputs": [
    {
     "data": {
      "text/plain": [
       "False"
      ]
     },
     "execution_count": 26,
     "metadata": {},
     "output_type": "execute_result"
    }
   ],
   "source": [
    "bool('')"
   ]
  },
  {
   "cell_type": "code",
   "execution_count": 27,
   "id": "4c9b4e2f",
   "metadata": {},
   "outputs": [
    {
     "data": {
      "text/plain": [
       "False"
      ]
     },
     "execution_count": 27,
     "metadata": {},
     "output_type": "execute_result"
    }
   ],
   "source": [
    "bool(None)"
   ]
  },
  {
   "cell_type": "markdown",
   "id": "b7ae7293",
   "metadata": {},
   "source": [
    "- 리스트, 튜플, 세트를 인자로 bool 함수 호출  \n",
    "항목이 있으면 True, 없으면 False 반환  "
   ]
  },
  {
   "cell_type": "code",
   "execution_count": 29,
   "id": "f25bd8c4",
   "metadata": {},
   "outputs": [
    {
     "data": {
      "text/plain": [
       "False"
      ]
     },
     "execution_count": 29,
     "metadata": {},
     "output_type": "execute_result"
    }
   ],
   "source": [
    "myFriends = []\n",
    "bool(myFriends)"
   ]
  },
  {
   "cell_type": "code",
   "execution_count": 30,
   "id": "26369a3c",
   "metadata": {},
   "outputs": [
    {
     "data": {
      "text/plain": [
       "True"
      ]
     },
     "execution_count": 30,
     "metadata": {},
     "output_type": "execute_result"
    }
   ],
   "source": [
    "myFriends = ['James', 'Robert', 'Lisa', 'Mary']\n",
    "bool(myFriends)"
   ]
  },
  {
   "cell_type": "code",
   "execution_count": 31,
   "id": "a0728708",
   "metadata": {},
   "outputs": [
    {
     "data": {
      "text/plain": [
       "False"
      ]
     },
     "execution_count": 31,
     "metadata": {},
     "output_type": "execute_result"
    }
   ],
   "source": [
    "myNum = ()\n",
    "bool(myNum)"
   ]
  },
  {
   "cell_type": "code",
   "execution_count": 33,
   "id": "f3c47c74",
   "metadata": {},
   "outputs": [
    {
     "data": {
      "text/plain": [
       "False"
      ]
     },
     "execution_count": 33,
     "metadata": {},
     "output_type": "execute_result"
    }
   ],
   "source": [
    "setA = {}\n",
    "bool(setA)"
   ]
  },
  {
   "cell_type": "code",
   "execution_count": 34,
   "id": "9fecb8c7",
   "metadata": {},
   "outputs": [
    {
     "data": {
      "text/plain": [
       "True"
      ]
     },
     "execution_count": 34,
     "metadata": {},
     "output_type": "execute_result"
    }
   ],
   "source": [
    "setA = {10,20,30}\n",
    "bool(setA)"
   ]
  },
  {
   "cell_type": "markdown",
   "id": "c6917028",
   "metadata": {},
   "source": [
    "- bool 함수의 활용"
   ]
  },
  {
   "cell_type": "code",
   "execution_count": 35,
   "id": "34e2151d",
   "metadata": {},
   "outputs": [],
   "source": [
    "def print_name(name):\n",
    "    if bool(name): # bool은  조건에 사용된다고 함 \n",
    "        print(\"입력된 이름:\", name)\n",
    "    else:\n",
    "        print(\"입력된 이름이 없습니다.\")"
   ]
  },
  {
   "cell_type": "code",
   "execution_count": 36,
   "id": "dbaaf44f",
   "metadata": {},
   "outputs": [
    {
     "name": "stdout",
     "output_type": "stream",
     "text": [
      "입력된 이름: eve\n"
     ]
    }
   ],
   "source": [
    "print_name(\"eve\")"
   ]
  },
  {
   "cell_type": "code",
   "execution_count": 37,
   "id": "f7c4b155",
   "metadata": {},
   "outputs": [
    {
     "name": "stdout",
     "output_type": "stream",
     "text": [
      "입력된 이름이 없습니다.\n"
     ]
    }
   ],
   "source": [
    "print_name(\"\")"
   ]
  },
  {
   "cell_type": "markdown",
   "id": "c5048ba1",
   "metadata": {},
   "source": [
    "## 최솟값과 최댓값을 구하는 함수\n",
    "- min(), max()  \n",
    "리스트, 튜플, 세트의 항목이나 문자열 중에서 각각 최솟값과 최댓값 반환  \n",
    "문자열도 가능  \n",
    "  \n",
    "## 절댓값과 전체 합을 구하는 함수\n",
    "- abs()\n",
    "- sum()\n",
    "  \n",
    "## 항목의 개수를 구하는 함수\n",
    "- len()  \n"
   ]
  },
  {
   "cell_type": "markdown",
   "id": "9045d397",
   "metadata": {},
   "source": [
    "### 내장 함수의 활용"
   ]
  },
  {
   "cell_type": "code",
   "execution_count": 43,
   "id": "6d927ca8",
   "metadata": {},
   "outputs": [
    {
     "name": "stdout",
     "output_type": "stream",
     "text": [
      "총점:350, 평균:87.5\n"
     ]
    }
   ],
   "source": [
    "scores = [90, 80, 95, 85]\n",
    "\n",
    "score_sum = 0\n",
    "subject_num = 0\n",
    "\n",
    "for score in scores:\n",
    "    score_sum = score_sum + score\n",
    "    subject_num = subject_num + 1\n",
    "    \n",
    "average = score_sum / subject_num \n",
    "\n",
    "print(\"총점:{0}, 평균:{1}\".format(score_sum, average))"
   ]
  },
  {
   "cell_type": "code",
   "execution_count": 44,
   "id": "747e3ffd",
   "metadata": {},
   "outputs": [
    {
     "name": "stdout",
     "output_type": "stream",
     "text": [
      "총점:350, 평균:87.5\n"
     ]
    }
   ],
   "source": [
    "scores = [90, 80, 95, 85]\n",
    "\n",
    "print(\"총점:{0}, 평균:{1}\".format(sum(scores),sum(scores)/len(scores)))"
   ]
  },
  {
   "cell_type": "code",
   "execution_count": null,
   "id": "6b10400b",
   "metadata": {},
   "outputs": [],
   "source": []
  }
 ],
 "metadata": {
  "kernelspec": {
   "display_name": "Python 3 (ipykernel)",
   "language": "python",
   "name": "python3"
  },
  "language_info": {
   "codemirror_mode": {
    "name": "ipython",
    "version": 3
   },
   "file_extension": ".py",
   "mimetype": "text/x-python",
   "name": "python",
   "nbconvert_exporter": "python",
   "pygments_lexer": "ipython3",
   "version": "3.9.7"
  }
 },
 "nbformat": 4,
 "nbformat_minor": 5
}
