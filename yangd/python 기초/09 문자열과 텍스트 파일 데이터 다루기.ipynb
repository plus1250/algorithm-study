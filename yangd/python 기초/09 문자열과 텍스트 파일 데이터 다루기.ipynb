{
 "cells": [
  {
   "cell_type": "markdown",
   "id": "52bc2f56",
   "metadata": {},
   "source": [
    "# 01 문자열 다루기\n",
    "- split() 메서드  \n",
    "- str.split([sep])\n",
    "- maxsplit=N"
   ]
  },
  {
   "cell_type": "code",
   "execution_count": 1,
   "id": "50739627",
   "metadata": {},
   "outputs": [
    {
     "data": {
      "text/plain": [
       "['에스프레소', '아메리카노', '카페라떼', '카푸치노']"
      ]
     },
     "execution_count": 1,
     "metadata": {},
     "output_type": "execute_result"
    }
   ],
   "source": [
    "coffee_menu_str = \"에스프레소,아메리카노,카페라떼,카푸치노\"\n",
    "coffee_menu_str.split(',')"
   ]
  },
  {
   "cell_type": "code",
   "execution_count": 3,
   "id": "aaa2b281",
   "metadata": {},
   "outputs": [
    {
     "data": {
      "text/plain": [
       "['에스프레소', '아메리카노', '카페라떼', '카푸치노']"
      ]
     },
     "execution_count": 3,
     "metadata": {},
     "output_type": "execute_result"
    }
   ],
   "source": [
    "\"에스프레소 아메리카노 카페라떼 카푸치노\".split()\n",
    "# 공백은 그냥 분리 가능"
   ]
  },
  {
   "cell_type": "code",
   "execution_count": 1,
   "id": "73dd4ece",
   "metadata": {},
   "outputs": [
    {
     "data": {
      "text/plain": [
       "['에스프레소', '아메리카노', '카페라떼 카푸치노']"
      ]
     },
     "execution_count": 1,
     "metadata": {},
     "output_type": "execute_result"
    }
   ],
   "source": [
    "\"에스프레소 아메리카노 카페라떼 카푸치노\".split(maxsplit=2)"
   ]
  },
  {
   "cell_type": "code",
   "execution_count": 2,
   "id": "dd1cdbae",
   "metadata": {},
   "outputs": [],
   "source": [
    "phone_number = \"+82-01-2345-6789\"\n",
    "split_num = phone_number.split(\"-\",1)"
   ]
  },
  {
   "cell_type": "code",
   "execution_count": 3,
   "id": "2c826269",
   "metadata": {},
   "outputs": [
    {
     "name": "stdout",
     "output_type": "stream",
     "text": [
      "['+82', '01-2345-6789']\n"
     ]
    }
   ],
   "source": [
    "print(split_num)"
   ]
  },
  {
   "cell_type": "code",
   "execution_count": 4,
   "id": "6fe284fb",
   "metadata": {},
   "outputs": [
    {
     "name": "stdout",
     "output_type": "stream",
     "text": [
      "국내전화번호: 01-2345-6789\n"
     ]
    }
   ],
   "source": [
    "print(\"국내전화번호: {0}\".format(split_num[1]))"
   ]
  },
  {
   "cell_type": "markdown",
   "id": "8cd80fc3",
   "metadata": {},
   "source": [
    "## 필요없는 문자열 삭제하기\n",
    "- strip()\n"
   ]
  },
  {
   "cell_type": "code",
   "execution_count": 5,
   "id": "35767caf",
   "metadata": {},
   "outputs": [
    {
     "data": {
      "text/plain": [
       "'Python'"
      ]
     },
     "execution_count": 5,
     "metadata": {},
     "output_type": "execute_result"
    }
   ],
   "source": [
    "\"aaaaPythonaaaa\".strip('a')"
   ]
  },
  {
   "cell_type": "code",
   "execution_count": 7,
   "id": "c7b549e4",
   "metadata": {},
   "outputs": [
    {
     "data": {
      "text/plain": [
       "'Pythonbbbb'"
      ]
     },
     "execution_count": 7,
     "metadata": {},
     "output_type": "execute_result"
    }
   ],
   "source": [
    "test_str=\"aaaaPythonbbbbaaa\"\n",
    "temp1 = test_str.strip('a')\n",
    "temp1"
   ]
  },
  {
   "cell_type": "code",
   "execution_count": 9,
   "id": "293f4a63",
   "metadata": {},
   "outputs": [
    {
     "data": {
      "text/plain": [
       "'Python'"
      ]
     },
     "execution_count": 9,
     "metadata": {},
     "output_type": "execute_result"
    }
   ],
   "source": [
    "temp2 = temp1.strip('b')\n",
    "temp2"
   ]
  },
  {
   "cell_type": "markdown",
   "id": "37c8cf54",
   "metadata": {},
   "source": [
    "## 문자열 연결하기\n",
    "- 기존의 방법 : +\n",
    "- join()  \n",
    "문자열을 항목으로 갖는 시퀀스 항목 사이에 구분자 문자열을 모두 넣은 후에 문자열로 반환"
   ]
  },
  {
   "cell_type": "code",
   "execution_count": 10,
   "id": "62f25a59",
   "metadata": {},
   "outputs": [
    {
     "name": "stdout",
     "output_type": "stream",
     "text": [
      "chain님, start 버튼을 눌러 주세요\n",
      "water님, start 버튼을 눌러 주세요\n"
     ]
    }
   ],
   "source": [
    "name1 = \"chain\"\n",
    "name2 = \"water\"\n",
    "\n",
    "hello = \"님, start 버튼을 눌러 주세요\"\n",
    "\n",
    "print(name1 + hello)\n",
    "print(name2 + hello)"
   ]
  },
  {
   "cell_type": "code",
   "execution_count": 13,
   "id": "730491c1",
   "metadata": {},
   "outputs": [
    {
     "data": {
      "text/plain": [
       "['서울시', '서초구', '반포대로', '201(반포동)']"
      ]
     },
     "execution_count": 13,
     "metadata": {},
     "output_type": "execute_result"
    }
   ],
   "source": [
    "address_list = ['서울시','서초구','반포대로','201(반포동)']\n",
    "address_list"
   ]
  },
  {
   "cell_type": "code",
   "execution_count": 15,
   "id": "43903d96",
   "metadata": {},
   "outputs": [
    {
     "data": {
      "text/plain": [
       "'서울시 서초구 반포대로 201(반포동)'"
      ]
     },
     "execution_count": 15,
     "metadata": {},
     "output_type": "execute_result"
    }
   ],
   "source": [
    "a = \" \"\n",
    "a.join(address_list)"
   ]
  },
  {
   "cell_type": "code",
   "execution_count": 16,
   "id": "e3dad157",
   "metadata": {},
   "outputs": [
    {
     "data": {
      "text/plain": [
       "'서울시 서초구 반포대로 201(반포동)'"
      ]
     },
     "execution_count": 16,
     "metadata": {},
     "output_type": "execute_result"
    }
   ],
   "source": [
    "\" \".join(address_list)"
   ]
  },
  {
   "cell_type": "code",
   "execution_count": 17,
   "id": "e1833b94",
   "metadata": {},
   "outputs": [
    {
     "data": {
      "text/plain": [
       "'서울시호잇서초구호잇반포대로호잇201(반포동)'"
      ]
     },
     "execution_count": 17,
     "metadata": {},
     "output_type": "execute_result"
    }
   ],
   "source": [
    "\"호잇\".join(address_list)"
   ]
  },
  {
   "cell_type": "markdown",
   "id": "32c75f1f",
   "metadata": {},
   "source": [
    "## 문자열 찾기\n",
    "- find() 메서드  \n",
    "str.find(search_str)\n",
    "- count()\n",
    "- startswith()\n",
    "- endswith()"
   ]
  },
  {
   "cell_type": "code",
   "execution_count": 18,
   "id": "9404660e",
   "metadata": {},
   "outputs": [
    {
     "name": "stdout",
     "output_type": "stream",
     "text": [
      "찾는 문자열의 위치:  0\n",
      "찾는 문자열의 위치:  7\n",
      "찾는 문자열의 위치:  5\n",
      "찾는 문자열의 위치:  -1\n"
     ]
    }
   ],
   "source": [
    "str_f = \"Python code.\"\n",
    "\n",
    "print(\"찾는 문자열의 위치: \", str_f.find(\"Python\")) # 0부터 시작\n",
    "print(\"찾는 문자열의 위치: \", str_f.find(\"code\"))\n",
    "print(\"찾는 문자열의 위치: \", str_f.find(\"n\"))\n",
    "print(\"찾는 문자열의 위치: \", str_f.find(\"easy\")) # 지정된 위치에서 찾지 못할 경우"
   ]
  },
  {
   "cell_type": "code",
   "execution_count": 20,
   "id": "e59b8886",
   "metadata": {},
   "outputs": [
    {
     "name": "stdout",
     "output_type": "stream",
     "text": [
      "20\n",
      "-1\n"
     ]
    }
   ],
   "source": [
    "str_f_se = \"Python is powerful. Python is easy to learn.\"\n",
    "\n",
    "print(str_f_se.find(\"Python\",10,30))\n",
    "print(str_f_se.find(\"Python\",35)) # 시작 위치만 지정"
   ]
  },
  {
   "cell_type": "code",
   "execution_count": 21,
   "id": "a98b3fc4",
   "metadata": {},
   "outputs": [
    {
     "name": "stdout",
     "output_type": "stream",
     "text": [
      "Python의 수 : 3\n",
      "powerful의 수 : 1\n",
      "IPython의 개수는?: 0\n"
     ]
    }
   ],
   "source": [
    "str_c = \"Python is powerful. Python is easy to learn. Python is open.\"\n",
    "\n",
    "print(\"Python의 수 :\", str_c.count(\"Python\"))\n",
    "print(\"powerful의 수 :\", str_c.count(\"powerful\"))\n",
    "print(\"IPython의 개수는?:\",str_c.count(\"IPython\"))"
   ]
  },
  {
   "cell_type": "code",
   "execution_count": 22,
   "id": "2c9627ee",
   "metadata": {},
   "outputs": [
    {
     "name": "stdout",
     "output_type": "stream",
     "text": [
      "Python으로 시작?: True\n",
      "is로 시작? False\n",
      ".로 끝? True\n",
      "learn으로  끝?: False\n"
     ]
    }
   ],
   "source": [
    "str_se = \"Python is powerful. Python is easy to learn.\"\n",
    "\n",
    "print(\"Python으로 시작?:\",str_se.startswith(\"Python\"))\n",
    "print(\"is로 시작?\", str_se.startswith(\"is\"))\n",
    "print(\".로 끝?\", str_se.endswith(\".\"))\n",
    "print(\"learn으로  끝?:\", str_se.endswith(\"leanr\"))"
   ]
  },
  {
   "cell_type": "markdown",
   "id": "bfddec68",
   "metadata": {},
   "source": [
    "## 문자열 바꾸기\n",
    "- replace()  \n",
    "str.replace(old, new[, count])"
   ]
  },
  {
   "cell_type": "code",
   "execution_count": 24,
   "id": "40aa7edc",
   "metadata": {},
   "outputs": [
    {
     "name": "stdout",
     "output_type": "stream",
     "text": [
      "python is fast. Mypython is friendly. Mypython is open.\n",
      "python is fast. Mython is friendly. Mython is open.\n"
     ]
    }
   ],
   "source": [
    "str_replace = 'python is fast. Python is friendly. Python is open.'\n",
    "\n",
    "print(str_replace.replace('Python','Mypython'))\n",
    "print(str_replace.replace('Python','Mython',2))\n"
   ]
  },
  {
   "cell_type": "code",
   "execution_count": 27,
   "id": "7a82d8e8",
   "metadata": {},
   "outputs": [
    {
     "name": "stdout",
     "output_type": "stream",
     "text": [
      "[Python] [is] [slow]\n",
      "Python] is] slow]\n",
      "Python is slow\n"
     ]
    }
   ],
   "source": [
    "str_b = '[Python] [is] [slow]'\n",
    "str_b1 = str_b.replace('[','')\n",
    "str_b2 = str_b1.replace(']','')\n",
    "\n",
    "print(str_b)\n",
    "print(str_b1)\n",
    "print(str_b2)"
   ]
  },
  {
   "cell_type": "markdown",
   "id": "a5641e92",
   "metadata": {},
   "source": [
    "## 문자열의 구성 확인하기\n",
    "- isalpha() 문자 True (숫자, 특문, 공백 X)\n",
    "- isdigit() 숫자 True\n",
    "- isalnum() 문자와 숫자 True\n",
    "- isspace() 공백문자로만 True\n",
    "- isupper() 대문자 True\n",
    "- islower() 소문자 True"
   ]
  },
  {
   "cell_type": "code",
   "execution_count": 28,
   "id": "50308aa2",
   "metadata": {},
   "outputs": [
    {
     "name": "stdout",
     "output_type": "stream",
     "text": [
      "True\n",
      "False\n"
     ]
    }
   ],
   "source": [
    "print('Python'.isalpha())\n",
    "print('Ver. 3.x'.isalpha())"
   ]
  },
  {
   "cell_type": "markdown",
   "id": "f463ebab",
   "metadata": {},
   "source": [
    "## 대소문자로 변경하기\n",
    "- lower()\n",
    "- upper()"
   ]
  },
  {
   "cell_type": "code",
   "execution_count": 29,
   "id": "4b2983c6",
   "metadata": {},
   "outputs": [
    {
     "name": "stdout",
     "output_type": "stream",
     "text": [
      "this song is powerful. you have to listen this.\n",
      "THIS SONG IS POWERFUL. YOU HAVE TO LISTEN THIS.\n"
     ]
    }
   ],
   "source": [
    "string1 = 'This song is powerful. You have to listen this.'\n",
    "\n",
    "print(string1.lower())\n",
    "print(string1.upper())"
   ]
  },
  {
   "cell_type": "code",
   "execution_count": 31,
   "id": "45970760",
   "metadata": {},
   "outputs": [
    {
     "data": {
      "text/plain": [
       "False"
      ]
     },
     "execution_count": 31,
     "metadata": {},
     "output_type": "execute_result"
    }
   ],
   "source": [
    "'Python' == 'python'"
   ]
  },
  {
   "cell_type": "code",
   "execution_count": 33,
   "id": "8b499cea",
   "metadata": {},
   "outputs": [
    {
     "name": "stdout",
     "output_type": "stream",
     "text": [
      "True\n",
      "True\n"
     ]
    }
   ],
   "source": [
    "print('Python'.upper() == 'python'.upper())\n",
    "print('Python'.lower() == 'python'.lower())"
   ]
  },
  {
   "cell_type": "markdown",
   "id": "2a5989a9",
   "metadata": {},
   "source": []
  }
 ],
 "metadata": {
  "kernelspec": {
   "display_name": "Python 3 (ipykernel)",
   "language": "python",
   "name": "python3"
  },
  "language_info": {
   "codemirror_mode": {
    "name": "ipython",
    "version": 3
   },
   "file_extension": ".py",
   "mimetype": "text/x-python",
   "name": "python",
   "nbconvert_exporter": "python",
   "pygments_lexer": "ipython3",
   "version": "3.9.7"
  }
 },
 "nbformat": 4,
 "nbformat_minor": 5
}
